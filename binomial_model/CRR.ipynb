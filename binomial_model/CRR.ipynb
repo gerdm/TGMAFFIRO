{
 "cells": [
  {
   "cell_type": "markdown",
   "metadata": {},
   "source": [
    "# Cox-Ross-Rubinstein Model"
   ]
  },
  {
   "cell_type": "code",
   "execution_count": 2,
   "metadata": {
    "collapsed": true
   },
   "outputs": [],
   "source": [
    "from math import sqrt, exp\n",
    "import pydotplus as pydot\n",
    "\n",
    "def crr_call(s0, k, rate, sigma, n_periods, diagram_out = True):\n",
    "    import numpy as np\n",
    "    up_factor = exp(sigma * sqrt(n_periods))\n",
    "    down_factor = 1/up_factor\n",
    "    p = ((1+rate) - down_factor)/(up_factor - down_factor)\n",
    "    # Option Payoff\n",
    "    contingent_payoff = lambda st, k: max(st - k, 0)\n",
    "    contingent_payoff = np.vectorize(contingent_payoff)\n",
    "\n",
    "    # Creating the branches at different times of the tree. Each branch is the possible martingale price\n",
    "    # of the stock at time t\n",
    "    stock_price_tree = []\n",
    "    for i in range(1,n_periods+1):\n",
    "        # Number of prices per period\n",
    "        period_prices = []\n",
    "        for j in range(i+1):\n",
    "            up_factor_repeat = i-j\n",
    "            down_factor_repeat = j\n",
    "\n",
    "            values = np.append(np.repeat(up_factor, up_factor_repeat),\n",
    "                               np.repeat(down_factor, down_factor_repeat))\n",
    "            \n",
    "            stock_price = values.prod() * s0\n",
    "            period_prices.append(stock_price)\n",
    "        stock_price_tree.append(period_prices)\n",
    "\n",
    "    # Getting the payoff of the call at the end of the tree\n",
    "    payoffs = contingent_payoff(stock_price_tree[n_periods-1], k).tolist()\n",
    "\n",
    "    option_prices = [payoffs]\n",
    "    # Contingent option price at period n-1\n",
    "    branch_n = payoffs # brach at n-1\n",
    "\n",
    "    for t in range(n_periods):\n",
    "        branch_nm1 = []\n",
    "        for i in range(len(branch_n)-1):\n",
    "            #cu: Contingent price at time n if price rises\n",
    "            #cd: Contingent price at time n if price decreases\n",
    "            cu, cd = np.array(branch_n)[[i, i+1]]\n",
    "            price = exp(-rate)*(p*cu + (1-p)*cd)\n",
    "            branch_nm1.append(price)\n",
    "        option_prices.append(branch_nm1)\n",
    "        branch_n = branch_nm1\n",
    "\n",
    "    option_prices = option_prices[::-1] \n",
    "    stock_price_tree.insert(0, [s0])\n",
    "    \n",
    "    # Save the diagram in the current directory if specified\n",
    "    if diagram_out:\n",
    "        graph = pydot.Dot(graph_type='digraph', rankdir='LR')\n",
    "\n",
    "        branch = 0\n",
    "        counter = 1\n",
    "        for i, prices in enumerate(option_prices[:-1]):\n",
    "            next_prices = option_prices[i+1]\n",
    "            for np, c_price in enumerate(prices):\n",
    "                c_price = str(round(c_price,2))\n",
    "\n",
    "                nprice1 = str(round(next_prices[np], 2))\n",
    "                nprice2 = str(round(next_prices[np+1], 2))\n",
    "\n",
    "                increment = len(prices)-1\n",
    "                from_branch, to_branch1, to_branch2 = branch, counter + increment, counter + increment + 1\n",
    "                \n",
    "                up_price = round(stock_price_tree[i][np] * up_factor, 2)\n",
    "                down_price = round(stock_price_tree[i][np] * down_factor, 2)\n",
    "                edge = pydot.Edge(from_branch, to_branch1, label = str(up_price)); graph.add_edge(edge)\n",
    "                edge = pydot.Edge(from_branch, to_branch2, label = str(down_price)); graph.add_edge(edge)\n",
    "\n",
    "                node = pydot.Node(to_branch1, label = str(nprice1)); graph.add_node(node)\n",
    "                node = pydot.Node(to_branch2, label = str(nprice2)); graph.add_node(node)\n",
    "\n",
    "                counter += 1\n",
    "                branch += 1\n",
    "\n",
    "        option_price = round(option_prices[0][0],2)\n",
    "        node = pydot.Node(\"0\", label = str(option_price)); graph.add_node(node)\n",
    "        graph.write_png(str(s0) + \"_call_option.png\",)\n",
    "        \n",
    "    return option_price"
   ]
  },
  {
   "cell_type": "code",
   "execution_count": 3,
   "metadata": {},
   "outputs": [
    {
     "data": {
      "text/plain": [
       "44.710000000000001"
      ]
     },
     "execution_count": 3,
     "metadata": {},
     "output_type": "execute_result"
    }
   ],
   "source": [
    "crr_call(s0 = 100, k = 92, rate = 0.06, sigma = 0.23, n_periods = 4)"
   ]
  },
  {
   "cell_type": "markdown",
   "metadata": {},
   "source": [
    "![call](100_call_option.png)"
   ]
  }
 ],
 "metadata": {
  "kernelspec": {
   "display_name": "Python 3",
   "language": "python",
   "name": "python3"
  },
  "language_info": {
   "codemirror_mode": {
    "name": "ipython",
    "version": 3
   },
   "file_extension": ".py",
   "mimetype": "text/x-python",
   "name": "python",
   "nbconvert_exporter": "python",
   "pygments_lexer": "ipython3",
   "version": "3.6.2"
  }
 },
 "nbformat": 4,
 "nbformat_minor": 1
}

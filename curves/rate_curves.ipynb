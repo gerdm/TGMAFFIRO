{
 "cells": [
  {
   "cell_type": "markdown",
   "metadata": {},
   "source": [
    "# Interest Rate Curves \n",
    "\n",
    "A $n\\times 1$ swap is a swap that changes $n$ \n",
    "\n",
    "$$\n",
    "    V_{fixed} = V_{floating}\n",
    "$$\n",
    "\n",
    "Where\n",
    "$$\n",
    "    V_{fixed} = \\sum_{k=1}^{n}r_n\\tau_n\n",
    "$$\n",
    "\n",
    "### TIIE28"
   ]
  },
  {
   "cell_type": "code",
   "execution_count": 1,
   "metadata": {
    "collapsed": true
   },
   "outputs": [],
   "source": [
    "%matplotlib inline\n",
    "from datetime import datetime, timedelta\n",
    "import numpy as np\n",
    "import matplotlib.pyplot as plt\n",
    "from pyrate import RateCurves\n",
    "\n",
    "# Load the holidays\n",
    "holidays = []\n",
    "with open(\"files/holidays.txt\", \"r\") as f:\n",
    "    dates = f.read().split(\"\\n\")\n",
    "    for date in dates:\n",
    "        holidays.append(datetime.strptime(date, \"%m/%d/%y\"))\n",
    "\n",
    "# Initialize the curve \n",
    "# The constant coupon rates for nx1 swaps trading liquid in the market\n",
    "mid_mkt = np.array([0.0409 ,  0.04315,  0.0446 ,  0.046  ,  0.04765,  0.05035,\n",
    "                    0.05245,  0.0543 ,  0.05605,  0.05905,  0.06215,  0.06401,\n",
    "                    0.0668 ,  0.06911,  0.07142])\n",
    "\n",
    "# 'n' flows of of a variable rate v.s. one fixed rate\n",
    "nx1_instruments = np.array([1, 3, 6, 9, 13, 26, 39, 52, 65, 91, 130, 156, 195, 260, 390])\n",
    "\n",
    "val_date = datetime(2016, 6, 27)\n",
    "tiie28 = RateCurves(val_date, mid_mkt, nx1_instruments, 28, holidays)"
   ]
  },
  {
   "cell_type": "code",
   "execution_count": 97,
   "metadata": {},
   "outputs": [
    {
     "data": {
      "text/plain": [
       "1.0000000017052875"
      ]
     },
     "execution_count": 97,
     "metadata": {},
     "output_type": "execute_result"
    }
   ],
   "source": [
    "# Pricing the fixed rate swap\n",
    "r, n = tiie28.market_coupons[1], tiie28.number_flows[1]\n",
    "coupon_days = tiie28.length_flows(n).cumsum()\n",
    "\n",
    "tau_k = tiie28.length_flows(n) / 360\n",
    "rate_k = tiie28.rate_curve(coupon_days)\n",
    "discount_factor = 1 / (1 + rate_k * coupon_days / 360)\n",
    "\n",
    "np.sum(r * tau_k * discount_factor) + discount_factor[-1]"
   ]
  },
  {
   "cell_type": "code",
   "execution_count": 68,
   "metadata": {},
   "outputs": [
    {
     "data": {
      "text/plain": [
       "array([ 0.99682898,  0.99349372,  0.98999772])"
      ]
     },
     "execution_count": 68,
     "metadata": {},
     "output_type": "execute_result"
    }
   ],
   "source": [
    "# Pricing the variable rate swap\n",
    "discount_factor"
   ]
  },
  {
   "cell_type": "code",
   "execution_count": 82,
   "metadata": {},
   "outputs": [
    {
     "data": {
      "text/plain": [
       "0.040899992549419437"
      ]
     },
     "execution_count": 82,
     "metadata": {},
     "output_type": "execute_result"
    }
   ],
   "source": [
    "(1 / discount_factor[0] - 1) / tau_k[0]"
   ]
  },
  {
   "cell_type": "code",
   "execution_count": 94,
   "metadata": {},
   "outputs": [
    {
     "data": {
      "text/plain": [
       "0.010002284737701594"
      ]
     },
     "execution_count": 94,
     "metadata": {},
     "output_type": "execute_result"
    }
   ],
   "source": [
    "1 - discount_factor[-1]"
   ]
  },
  {
   "cell_type": "code",
   "execution_count": 2,
   "metadata": {
    "scrolled": true
   },
   "outputs": [
    {
     "name": "stdout",
     "output_type": "stream",
     "text": [
      "[ 0.  0.  0.  0.  0.  0.  0.  0.  0.  0.  0.  0.  0.  0.  0.]\n",
      "False\n"
     ]
    }
   ],
   "source": [
    "print(tiie28.discount_rates)\n",
    "print(tiie28.fitted_curve)"
   ]
  },
  {
   "cell_type": "code",
   "execution_count": 3,
   "metadata": {},
   "outputs": [
    {
     "name": "stdout",
     "output_type": "stream",
     "text": [
      "[ 0.04089999  0.04330003  0.04500234  0.04668823  0.0487722   0.05300998\n",
      "  0.05695582  0.06097714  0.06527678  0.07444921  0.08906129  0.10105983\n",
      "  0.12491065  0.16995148  0.31693922]\n",
      "True\n"
     ]
    }
   ],
   "source": [
    "tiie28.fit_curve()\n",
    "print(tiie28.discount_rates)\n",
    "print(tiie28.fitted_curve)"
   ]
  },
  {
   "cell_type": "code",
   "execution_count": 4,
   "metadata": {},
   "outputs": [
    {
     "data": {
      "text/plain": [
       "array([   28,    84,   169,   252,   364,   728,  1092,  1456,  1820,\n",
       "        2548,  3640,  4368,  5460,  7280, 10920])"
      ]
     },
     "execution_count": 4,
     "metadata": {},
     "output_type": "execute_result"
    }
   ],
   "source": [
    "tiie28.days_to_pillar"
   ]
  },
  {
   "cell_type": "code",
   "execution_count": 5,
   "metadata": {
    "collapsed": true
   },
   "outputs": [],
   "source": [
    "from scipy.interpolate import interp1d"
   ]
  },
  {
   "cell_type": "code",
   "execution_count": 98,
   "metadata": {},
   "outputs": [
    {
     "data": {
      "image/png": "[encoded data removed]",
      "text/plain": [
       "<matplotlib.figure.Figure at 0x11469feb8>"
      ]
     },
     "metadata": {},
     "output_type": "display_data"
    }
   ],
   "source": [
    "x = np.arange(28, 10920)\n",
    "plt.plot(x, tiie28.rate_curve(x)) \n",
    "plt.scatter(tiie28.days_to_pillar, tiie28.rate_curve(tiie28.days_to_pillar))\n",
    "plt.title(\"Discount Rate\");"
   ]
  },
  {
   "cell_type": "code",
   "execution_count": 7,
   "metadata": {},
   "outputs": [
    {
     "data": {
      "image/png": "[encoded data removed]",
      "text/plain": [
       "<matplotlib.figure.Figure at 0x109b180b8>"
      ]
     },
     "metadata": {},
     "output_type": "display_data"
    }
   ],
   "source": [
    "x = np.arange(28, 10920)\n",
    "plt.plot(x, 1 /( 1 + tiie28.rate_curve(x) * x / 360))\n",
    "plt.scatter(tiie28.days_to_pillar, 1 /( 1 + tiie28.rate_curve(tiie28.days_to_pillar) * tiie28.days_to_pillar / 360))\n",
    "plt.title(\"Discount Factor\");"
   ]
  }
 ],
 "metadata": {
  "kernelspec": {
   "display_name": "Python 3",
   "language": "python",
   "name": "python3"
  },
  "language_info": {
   "codemirror_mode": {
    "name": "ipython",
    "version": 3
   },
   "file_extension": ".py",
   "mimetype": "text/x-python",
   "name": "python",
   "nbconvert_exporter": "python",
   "pygments_lexer": "ipython3",
   "version": "3.6.2"
  }
 },
 "nbformat": 4,
 "nbformat_minor": 2
}

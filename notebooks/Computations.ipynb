{
 "cells": [
  {
   "cell_type": "code",
   "execution_count": 22,
   "metadata": {
    "collapsed": true
   },
   "outputs": [],
   "source": [
    "from numpy.random import choice, seed\n",
    "import numpy as np\n",
    "from scipy.stats import norm\n",
    "import matplotlib.pyplot as plt\n",
    "from numpy import sqrt\n",
    "import pandas as pd\n",
    "import seaborn as sns"
   ]
  },
  {
   "cell_type": "markdown",
   "metadata": {},
   "source": [
    "## Simulating the distribution of a brownian motion at $t=1$ (S 3.2)"
   ]
  },
  {
   "cell_type": "code",
   "execution_count": 2,
   "metadata": {
    "collapsed": true
   },
   "outputs": [],
   "source": [
    "symmetric_random_walk = lambda nsteps: np.cumsum(np.append(0, choice([-1,1], nsteps)))\n",
    "scaled_random_walk  = lambda partitions, t: symmetric_random_walk(partitions * t) / sqrt(partitions)"
   ]
  },
  {
   "cell_type": "code",
   "execution_count": 34,
   "metadata": {},
   "outputs": [],
   "source": [
    "#seed(1994)\n",
    "samples = 500\n",
    "partitions = [10, 20, 50, 100, 500]\n",
    "\n",
    "vals = {}\n",
    "for partition in partitions:\n",
    "    # Applying LLN\n",
    "    means = []\n",
    "    for __ in range(samples):\n",
    "        samp_values = []\n",
    "        # Running the si\n",
    "        for _ in range(samples):\n",
    "            last_pos = scaled_random_walk(partition,1)[-1]\n",
    "            # Getting values that fall between two standard deviations\n",
    "            samp_values.append(last_pos)\n",
    "        means.append(np.mean([abs(p) <= 2 for p in samp_values]))\n",
    "            \n",
    "    vals[str(partition)] = np.mean(means)"
   ]
  },
  {
   "cell_type": "code",
   "execution_count": 48,
   "metadata": {},
   "outputs": [
    {
     "data": {
      "text/plain": [
       "{'10': 0.97846399999999989,\n",
       " '100': 0.96461600000000003,\n",
       " '20': 0.95863199999999993,\n",
       " '50': 0.96706399999999992,\n",
       " '500': 0.95598800000000006}"
      ]
     },
     "execution_count": 48,
     "metadata": {},
     "output_type": "execute_result"
    }
   ],
   "source": [
    "vals"
   ]
  }
 ],
 "metadata": {
  "kernelspec": {
   "display_name": "Python 3",
   "language": "python",
   "name": "python3"
  },
  "language_info": {
   "codemirror_mode": {
    "name": "ipython",
    "version": 3
   },
   "file_extension": ".py",
   "mimetype": "text/x-python",
   "name": "python",
   "nbconvert_exporter": "python",
   "pygments_lexer": "ipython3",
   "version": "3.5.3"
  }
 },
 "nbformat": 4,
 "nbformat_minor": 2
}

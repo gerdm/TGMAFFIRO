{
 "cells": [
  {
   "cell_type": "code",
   "execution_count": 46,
   "metadata": {
    "collapsed": true
   },
   "outputs": [],
   "source": [
    "import numpy as np\n",
    "from numpy.random import normal, seed\n",
    "from numpy import exp, log, sqrt\n",
    "from scipy.stats import norm\n",
    "import matplotlib.pyplot as plt"
   ]
  },
  {
   "cell_type": "code",
   "execution_count": 252,
   "metadata": {
    "collapsed": true
   },
   "outputs": [],
   "source": [
    "S0 = 100\n",
    "K = 92\n",
    "r = 0.06\n",
    "sigma = 0.23\n",
    "T = 150 / 365"
   ]
  },
  {
   "cell_type": "markdown",
   "metadata": {
    "collapsed": true
   },
   "source": [
    "** The Black-Scholes Formula for European Call Options**\n",
    "$$\n",
    "    S_0 \\Phi(d_+) - K e^{-rT} \\Phi(d_-)\n",
    "$$\n",
    "\n",
    "Where,\n",
    "- $d_+ = \\frac{1}{\\sigma\\sqrt T}\\left(\\log \\frac{S_0}{K}+ (r + \\frac{1}{2}\\sigma^2)T\\right)$\n",
    "- $d_- = \\frac{1}{\\sigma\\sqrt T}\\left(\\log \\frac{S_0}{K}+ (r - \\frac{1}{2}\\sigma^2)T\\right) = d_+ - \\sigma\\sqrt T$"
   ]
  },
  {
   "cell_type": "code",
   "execution_count": 289,
   "metadata": {
    "collapsed": true
   },
   "outputs": [],
   "source": [
    "def european_option(s, k, sigma, rate, ttm):\n",
    "    \"\"\"\n",
    "    Parameters\n",
    "    ----------\n",
    "    s: float\n",
    "        The value of the underlying at t=0\n",
    "    k: float\n",
    "        The value of the strike\n",
    "    sigma: float\n",
    "        Volatility of the underlying\n",
    "    rate: float\n",
    "        The risk-free interest rate\n",
    "    ttm: float\n",
    "        The time to maturity –in years– to maturity.\n",
    "    \"\"\"\n",
    "    d1 = (log(s / k) + (r + sigma ** 2 / 2) * ttm) / (sigma * sqrt(ttm))\n",
    "    d2 = d1 - sigma * sqrt(ttm)\n",
    "    return s * norm.cdf(d1) - k * exp(-rate * ttm) * norm.cdf(d2)"
   ]
  },
  {
   "cell_type": "code",
   "execution_count": 298,
   "metadata": {},
   "outputs": [
    {
     "data": {
      "text/plain": [
       "12.125338828163677"
      ]
     },
     "execution_count": 298,
     "metadata": {},
     "output_type": "execute_result"
    }
   ],
   "source": [
    "european_option(S0, K, sigma, r, T)"
   ]
  },
  {
   "cell_type": "markdown",
   "metadata": {},
   "source": [
    "** Simulating payoff **\n",
    "\n",
    "Consider\n",
    "$$\n",
    "    S_t = S_0e^{\\sigma W_t + (r - \\frac{1}{2}\\sigma^2)t}\n",
    "$$"
   ]
  },
  {
   "cell_type": "code",
   "execution_count": 301,
   "metadata": {},
   "outputs": [
    {
     "data": {
      "text/plain": [
       "12.114696136969998"
      ]
     },
     "execution_count": 301,
     "metadata": {},
     "output_type": "execute_result"
    }
   ],
   "source": [
    "def mean_price(S0, K, T, r, sigma, nsimul):\n",
    "    sum_price = 0\n",
    "    for _ in range(nsimul):\n",
    "        WT = normal(scale=sqrt(T))\n",
    "        ST = S0 * exp(sigma * WT + (r - sigma ** 2 / 2) * T)\n",
    "        payoff = max(ST - K, 0)\n",
    "        sum_price += payoff\n",
    "    return sum_price / nsimul\n",
    "\n",
    "price = 0\n",
    "nsim = 1500\n",
    "for _ in range(nsim):\n",
    "    price += mean_price(S0, K, T, r, sigma, nsim)\n",
    "    \n",
    "price = exp(-r * T) * price / nsim\n",
    "price"
   ]
  }
 ],
 "metadata": {
  "kernelspec": {
   "display_name": "Python 3",
   "language": "python",
   "name": "python3"
  },
  "language_info": {
   "codemirror_mode": {
    "name": "ipython",
    "version": 3
   },
   "file_extension": ".py",
   "mimetype": "text/x-python",
   "name": "python",
   "nbconvert_exporter": "python",
   "pygments_lexer": "ipython3",
   "version": "3.6.2"
  }
 },
 "nbformat": 4,
 "nbformat_minor": 2
}
